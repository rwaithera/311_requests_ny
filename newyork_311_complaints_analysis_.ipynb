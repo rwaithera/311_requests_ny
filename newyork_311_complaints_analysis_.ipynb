{
 "cells": [
  {
   "cell_type": "code",
   "execution_count": 67,
   "metadata": {},
   "outputs": [],
   "source": [
    "import pandas as pd\n",
    "import numpy as np\n",
    "import matplotlib.pyplot as plt\n",
    "import time\n",
    "import datetime"
   ]
  },
  {
   "cell_type": "code",
   "execution_count": 85,
   "metadata": {},
   "outputs": [
    {
     "data": {
      "text/plain": [
       "<dask.config.set at 0x4efd34f28>"
      ]
     },
     "execution_count": 85,
     "metadata": {},
     "output_type": "execute_result"
    }
   ],
   "source": [
    "import dask.dataframe as dd\n",
    "import dask.multiprocessing\n",
    "dask.config.set(scheduler='threads')"
   ]
  },
  {
   "cell_type": "code",
   "execution_count": 86,
   "metadata": {},
   "outputs": [
    {
     "name": "stdout",
     "output_type": "stream",
     "text": [
      "data read in 0.23 seconds\n"
     ]
    }
   ],
   "source": [
    "# read 311 requests from url\n",
    "\n",
    "# import io\n",
    "# import requests\n",
    "# requests_311_url = \"https://data.cityofnewyork.us/api/views/erm2-nwe9/rows.csv?accessType=DOWNLOAD\"\n",
    "# requests_311_content = requests.get(requests_311_url).content\n",
    "\n",
    "dtypes = {\n",
    "    \"Unique Key\" : \"str\",\n",
    "    \"Created Date\": \"str\",\n",
    "    \"Closed Date\": \"str\",\n",
    "    \"Agency\": \"category\",\n",
    "    \"Agency Name\": \"str\",\n",
    "    \"Complaint Type\": \"category\", \n",
    "    \"Descriptor\": \"str\", \n",
    "    \"Incident Zip\": \"str\",\n",
    "    \"Incident Address\": \"str\",\n",
    "    \"Street Name\": \"str\", \n",
    "    \"Address Type\": \"category\",\n",
    "    \"City\": \"category\",\n",
    "    \"Landmark\": \"str\",\n",
    "    \"Facility Type\": \"category\",\n",
    "    \"Status\": \"category\",\n",
    "    \"Due Date\": \"str\",\n",
    "    \"Resolution Action Updated Date\": \"str\",\n",
    "    \"BBL\": \"str\",\n",
    "    \"Borough\": \"str\",\n",
    "}\n",
    "\n",
    "usecols = ['Unique Key', 'Created Date', 'Closed Date', 'Agency', 'Agency Name',\n",
    "           'Complaint Type', 'Location Type', 'Incident Zip',\n",
    "           'Incident Address', 'Street Name', 'Address Type', \n",
    "           'City', 'Landmark', 'Facility Type', 'Status', 'Due Date',\n",
    "           'Resolution Action Updated Date', 'BBL', 'Borough']\n",
    "\n",
    "## for date parsing\n",
    "# mydateparser = lambda x: pd.datetime.strptime(x, \"%m/%d/%Y %I:%M:%S %p\")\n",
    "\n",
    "start = time.time()\n",
    "try:\n",
    "    # note the usage of dtype and usecols below\n",
    "    df = dd.read_csv(\"311_Service_Requests_from_2010_to_Present.csv\", dtype=dtypes,\n",
    "                    usecols=usecols)\n",
    "    end = time.time()\n",
    "    print(\"data read in {:.2f} seconds\".format(end-start))\n",
    "except Exception as e:\n",
    "    print(str(e))\n",
    "    "
   ]
  },
  {
   "cell_type": "code",
   "execution_count": 87,
   "metadata": {},
   "outputs": [
    {
     "data": {
      "text/plain": [
       "Index(['Unique Key', 'Created Date', 'Closed Date', 'Agency', 'Agency Name',\n",
       "       'Complaint Type', 'Location Type', 'Incident Zip', 'Incident Address',\n",
       "       'Street Name', 'Address Type', 'City', 'Landmark', 'Facility Type',\n",
       "       'Status', 'Due Date', 'Resolution Action Updated Date', 'BBL',\n",
       "       'Borough'],\n",
       "      dtype='object')"
      ]
     },
     "execution_count": 87,
     "metadata": {},
     "output_type": "execute_result"
    }
   ],
   "source": [
    "df.columns"
   ]
  },
  {
   "cell_type": "code",
   "execution_count": 48,
   "metadata": {},
   "outputs": [
    {
     "data": {
      "text/html": [
       "<div>\n",
       "<style scoped>\n",
       "    .dataframe tbody tr th:only-of-type {\n",
       "        vertical-align: middle;\n",
       "    }\n",
       "\n",
       "    .dataframe tbody tr th {\n",
       "        vertical-align: top;\n",
       "    }\n",
       "\n",
       "    .dataframe thead th {\n",
       "        text-align: right;\n",
       "    }\n",
       "</style>\n",
       "<table border=\"1\" class=\"dataframe\">\n",
       "  <thead>\n",
       "    <tr style=\"text-align: right;\">\n",
       "      <th></th>\n",
       "      <th>Unique Key</th>\n",
       "      <th>Created Date</th>\n",
       "      <th>Closed Date</th>\n",
       "      <th>Agency</th>\n",
       "      <th>Agency Name</th>\n",
       "      <th>Complaint Type</th>\n",
       "      <th>Location Type</th>\n",
       "      <th>Incident Zip</th>\n",
       "      <th>Incident Address</th>\n",
       "      <th>Street Name</th>\n",
       "      <th>Address Type</th>\n",
       "      <th>City</th>\n",
       "      <th>Landmark</th>\n",
       "      <th>Facility Type</th>\n",
       "      <th>Status</th>\n",
       "      <th>Due Date</th>\n",
       "      <th>Resolution Action Updated Date</th>\n",
       "      <th>BBL</th>\n",
       "      <th>Borough</th>\n",
       "    </tr>\n",
       "  </thead>\n",
       "  <tbody>\n",
       "    <tr>\n",
       "      <th>unique</th>\n",
       "      <td>21827375</td>\n",
       "      <td>14349985</td>\n",
       "      <td>8971959</td>\n",
       "      <td>31</td>\n",
       "      <td>1933</td>\n",
       "      <td>434</td>\n",
       "      <td>170</td>\n",
       "      <td>2817</td>\n",
       "      <td>1436297</td>\n",
       "      <td>39964</td>\n",
       "      <td>5</td>\n",
       "      <td>2557</td>\n",
       "      <td>7692</td>\n",
       "      <td>4</td>\n",
       "      <td>12</td>\n",
       "      <td>8038965</td>\n",
       "      <td>8584002</td>\n",
       "      <td>782100</td>\n",
       "      <td>6</td>\n",
       "    </tr>\n",
       "    <tr>\n",
       "      <th>count</th>\n",
       "      <td>21827375</td>\n",
       "      <td>21827375</td>\n",
       "      <td>21202729</td>\n",
       "      <td>21827375</td>\n",
       "      <td>21827375</td>\n",
       "      <td>21827375</td>\n",
       "      <td>16385326</td>\n",
       "      <td>20536815</td>\n",
       "      <td>17664695</td>\n",
       "      <td>17663315</td>\n",
       "      <td>20504922</td>\n",
       "      <td>20492776</td>\n",
       "      <td>454992</td>\n",
       "      <td>5503452</td>\n",
       "      <td>21827375</td>\n",
       "      <td>8525510</td>\n",
       "      <td>21511429</td>\n",
       "      <td>16768919</td>\n",
       "      <td>21827375</td>\n",
       "    </tr>\n",
       "    <tr>\n",
       "      <th>top</th>\n",
       "      <td>44652957</td>\n",
       "      <td>01/24/2013 12:00:00 AM</td>\n",
       "      <td>11/15/2010 12:00:00 AM</td>\n",
       "      <td>HPD</td>\n",
       "      <td>Department of Housing Preservation and Develop...</td>\n",
       "      <td>Noise - Residential</td>\n",
       "      <td>RESIDENTIAL BUILDING</td>\n",
       "      <td>11226</td>\n",
       "      <td>34 ARDEN STREET</td>\n",
       "      <td>BROADWAY</td>\n",
       "      <td>ADDRESS</td>\n",
       "      <td>BROOKLYN</td>\n",
       "      <td>BROADWAY</td>\n",
       "      <td>Precinct</td>\n",
       "      <td>Closed</td>\n",
       "      <td>04/08/2015 10:00:58 AM</td>\n",
       "      <td>11/15/2010 12:00:00 AM</td>\n",
       "      <td>1021740175</td>\n",
       "      <td>BROOKLYN</td>\n",
       "    </tr>\n",
       "    <tr>\n",
       "      <th>freq</th>\n",
       "      <td>1</td>\n",
       "      <td>7650</td>\n",
       "      <td>9289</td>\n",
       "      <td>5902472</td>\n",
       "      <td>5902138</td>\n",
       "      <td>1778029</td>\n",
       "      <td>5842533</td>\n",
       "      <td>380180</td>\n",
       "      <td>14412</td>\n",
       "      <td>204614</td>\n",
       "      <td>16651601</td>\n",
       "      <td>6541439</td>\n",
       "      <td>5573</td>\n",
       "      <td>4757733</td>\n",
       "      <td>20762912</td>\n",
       "      <td>4552</td>\n",
       "      <td>11597</td>\n",
       "      <td>14714</td>\n",
       "      <td>6492836</td>\n",
       "    </tr>\n",
       "  </tbody>\n",
       "</table>\n",
       "</div>"
      ],
      "text/plain": [
       "       Unique Key            Created Date             Closed Date    Agency  \\\n",
       "unique   21827375                14349985                 8971959        31   \n",
       "count    21827375                21827375                21202729  21827375   \n",
       "top      44652957  01/24/2013 12:00:00 AM  11/15/2010 12:00:00 AM       HPD   \n",
       "freq            1                    7650                    9289   5902472   \n",
       "\n",
       "                                              Agency Name  \\\n",
       "unique                                               1933   \n",
       "count                                            21827375   \n",
       "top     Department of Housing Preservation and Develop...   \n",
       "freq                                              5902138   \n",
       "\n",
       "             Complaint Type         Location Type Incident Zip  \\\n",
       "unique                  434                   170         2817   \n",
       "count              21827375              16385326     20536815   \n",
       "top     Noise - Residential  RESIDENTIAL BUILDING        11226   \n",
       "freq                1778029               5842533       380180   \n",
       "\n",
       "       Incident Address Street Name Address Type      City  Landmark  \\\n",
       "unique          1436297       39964            5      2557      7692   \n",
       "count          17664695    17663315     20504922  20492776    454992   \n",
       "top     34 ARDEN STREET    BROADWAY      ADDRESS  BROOKLYN  BROADWAY   \n",
       "freq              14412      204614     16651601   6541439      5573   \n",
       "\n",
       "       Facility Type    Status                Due Date  \\\n",
       "unique             4        12                 8038965   \n",
       "count        5503452  21827375                 8525510   \n",
       "top         Precinct    Closed  04/08/2015 10:00:58 AM   \n",
       "freq         4757733  20762912                    4552   \n",
       "\n",
       "       Resolution Action Updated Date         BBL   Borough  \n",
       "unique                        8584002      782100         6  \n",
       "count                        21511429    16768919  21827375  \n",
       "top            11/15/2010 12:00:00 AM  1021740175  BROOKLYN  \n",
       "freq                            11597       14714   6492836  "
      ]
     },
     "execution_count": 48,
     "metadata": {},
     "output_type": "execute_result"
    }
   ],
   "source": [
    "# describe the data. The compute() function is because this is a dask dataframe. \n",
    "# Exclude compute() is using pandas dataframe\n",
    "\n",
    "df.describe().compute()"
   ]
  },
  {
   "cell_type": "code",
   "execution_count": null,
   "metadata": {},
   "outputs": [],
   "source": [
    "# getting the shape of the dataframe\n",
    "\n",
    "a = df.shape\n",
    "a[0].compute(),a[1]"
   ]
  },
  {
   "cell_type": "markdown",
   "metadata": {},
   "source": [
    "### Get complaint types for Dpt of Housing"
   ]
  },
  {
   "cell_type": "code",
   "execution_count": 88,
   "metadata": {},
   "outputs": [],
   "source": [
    "# first filter our dataframe by agency name housing department\n",
    "df_housing_department = df[df['Agency Name'] == 'Department of Housing Preservation and Development']"
   ]
  },
  {
   "cell_type": "code",
   "execution_count": 89,
   "metadata": {},
   "outputs": [
    {
     "name": "stdout",
     "output_type": "stream",
     "text": [
      "processing time: 141.751 seconds \n",
      "\n",
      "Complaint Type\n",
      "HEAT/HOT WATER    1176337\n",
      "HEATING            887850\n",
      "PLUMBING           705868\n",
      "Name: Complaint Type, dtype: int64\n"
     ]
    }
   ],
   "source": [
    "# get the first 3 complaint types for housing department\n",
    "\n",
    "start = time.time()\n",
    "\n",
    "df_complaint_type = (df_housing_department.groupby('Complaint Type')['Complaint Type']\n",
    "                     .agg('count').nlargest(3)\n",
    "                     .compute())\n",
    "\n",
    "end = time.time()\n",
    "\n",
    "print(\"processing time: {:.3f} seconds \\n\".format(end-start))\n",
    "print(df_complaint_type)"
   ]
  },
  {
   "cell_type": "code",
   "execution_count": 90,
   "metadata": {},
   "outputs": [
    {
     "data": {
      "text/plain": [
       "Unique Key                          object\n",
       "Created Date                        object\n",
       "Closed Date                         object\n",
       "Agency                            category\n",
       "Agency Name                         object\n",
       "Complaint Type                    category\n",
       "Location Type                       object\n",
       "Incident Zip                        object\n",
       "Incident Address                    object\n",
       "Street Name                         object\n",
       "Address Type                      category\n",
       "City                              category\n",
       "Landmark                            object\n",
       "Facility Type                     category\n",
       "Status                            category\n",
       "Due Date                            object\n",
       "Resolution Action Updated Date      object\n",
       "BBL                                 object\n",
       "Borough                             object\n",
       "dtype: object"
      ]
     },
     "execution_count": 90,
     "metadata": {},
     "output_type": "execute_result"
    }
   ],
   "source": [
    "# note the dtypes of the columns. Note the category columns we specified during dataset read.\n",
    "\n",
    "df.dtypes"
   ]
  },
  {
   "cell_type": "code",
   "execution_count": null,
   "metadata": {},
   "outputs": [],
   "source": []
  }
 ],
 "metadata": {
  "kernelspec": {
   "display_name": "Python 3",
   "language": "python",
   "name": "python3"
  },
  "language_info": {
   "codemirror_mode": {
    "name": "ipython",
    "version": 3
   },
   "file_extension": ".py",
   "mimetype": "text/x-python",
   "name": "python",
   "nbconvert_exporter": "python",
   "pygments_lexer": "ipython3",
   "version": "3.7.3"
  }
 },
 "nbformat": 4,
 "nbformat_minor": 2
}
